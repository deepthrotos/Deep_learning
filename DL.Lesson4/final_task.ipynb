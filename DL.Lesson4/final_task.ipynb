{
 "cells": [
  {
   "cell_type": "code",
   "execution_count": 1,
   "id": "362b00e0",
   "metadata": {
    "cellId": "5lwt5hew5o8yud0tsliju"
   },
   "outputs": [],
   "source": [
    "import torch\n",
    "import torch.nn as nn\n",
    "from torch.utils.data import DataLoader\n",
    "import torchvision.transforms as T\n",
    "from torchvision.datasets import CIFAR10\n",
    "from tqdm import tqdm\n",
    "from torch.optim import Adam\n",
    "from IPython.display import clear_output\n",
    "import matplotlib.pyplot as plt\n",
    "from torch.optim.lr_scheduler import StepLR"
   ]
  },
  {
   "cell_type": "code",
   "execution_count": 17,
   "id": "510abbb7",
   "metadata": {
    "cellId": "k6lkt8lrwta9lfmnr7skhl"
   },
   "outputs": [
    {
     "ename": "SyntaxError",
     "evalue": "invalid syntax (<ipython-input-1-5b17823947ab>, line 7)",
     "output_type": "error",
     "traceback": [
      "\u001b[0;36m  File \u001b[0;32m\"<ipython-input-1-5b17823947ab>\"\u001b[0;36m, line \u001b[0;32m7\u001b[0m\n\u001b[0;31m    T.RandomResizedCrop(size=32, scale=(0.8, 1.1)),\u001b[0m\n\u001b[0m    ^\u001b[0m\n\u001b[0;31mSyntaxError\u001b[0m\u001b[0;31m:\u001b[0m invalid syntax\n"
     ]
    }
   ],
   "source": [
    "means = [0.49139968, 0.48215841, 0.44653091]\n",
    "stds = [0.24703223, 0.24348513, 0.26158784]\n",
    "\n",
    "train_transforms = T.Compose(\n",
    "    [\n",
    "        T.RandomRotation(10)\n",
    "        T.RandomResizedCrop(size=32, scale=(0.8, 1.1)),\n",
    "        T.RandomHorizontalFlip(p=0.5),\n",
    "        T.RandomAdjustSharpness(sharpness_factor=2),\n",
    "        T.ToTensor(),\n",
    "        T.Normalize(mean=means, std=stds)\n",
    "    ]\n",
    ")\n",
    "\n",
    "test_transforms = T.Compose(\n",
    "    [\n",
    "        T.ToTensor(),\n",
    "        T.Normalize(mean=means, std=stds)\n",
    "    ]\n",
    ")\n",
    "\n",
    "train_dataset = CIFAR10(\"/home/jupyter/mnt/datasets/cifar10\", train=True, transform=train_transforms)\n",
    "valid_dataset = CIFAR10(\"/home/jupyter/mnt/datasets/cifar10\", train=False, transform=test_transforms)\n",
    "\n"
   ]
  },
  {
   "cell_type": "code",
   "execution_count": 3,
   "id": "e2c40dcd",
   "metadata": {
    "cellId": "fplytoq55gjmc80yvp5ujj"
   },
   "outputs": [
    {
     "name": "stderr",
     "output_type": "stream",
     "text": [
      "/usr/local/lib/python3.9/dist-packages/torch/utils/data/dataloader.py:487: UserWarning: This DataLoader will create 8 worker processes in total. Our suggested max number of worker in current system is 4, which is smaller than what this DataLoader is going to create. Please be aware that excessive worker creation might get DataLoader running slow or even freeze, lower the worker number to avoid potential slowness/freeze if necessary.\n",
      "  warnings.warn(_create_warning_msg(\n",
      "/usr/local/lib/python3.9/dist-packages/torch/utils/data/dataloader.py:487: UserWarning: This DataLoader will create 8 worker processes in total. Our suggested max number of worker in current system is 4, which is smaller than what this DataLoader is going to create. Please be aware that excessive worker creation might get DataLoader running slow or even freeze, lower the worker number to avoid potential slowness/freeze if necessary.\n",
      "  warnings.warn(_create_warning_msg(\n"
     ]
    }
   ],
   "source": [
    "train_loader = DataLoader(train_dataset, batch_size=128, shuffle=True, num_workers=8, pin_memory=True)\n",
    "valid_loader = DataLoader(valid_dataset, batch_size=128, shuffle=False, num_workers=8, pin_memory=True)"
   ]
  },
  {
   "cell_type": "code",
   "execution_count": 4,
   "id": "cea31207",
   "metadata": {
    "cellId": "3941lmimjg3u0hfzqnu2lo"
   },
   "outputs": [],
   "source": [
    "def train(model) -> float:\n",
    "    model.train()\n",
    "\n",
    "    train_loss = 0\n",
    "    total = 0\n",
    "    correct = 0\n",
    "\n",
    "    for x, y in tqdm(train_loader, desc='Train'):\n",
    "        x, y = x.to(device), y.to(device)\n",
    "\n",
    "        optimizer.zero_grad()\n",
    "\n",
    "        output = model(x)\n",
    "\n",
    "        loss = loss_fn(output, y)\n",
    "\n",
    "        train_loss += loss.item()\n",
    "\n",
    "        loss.backward()\n",
    "\n",
    "        optimizer.step()\n",
    "\n",
    "        _, y_pred = torch.max(output, 1)\n",
    "        total += y.size(0)\n",
    "        correct += (y_pred == y).sum().item()\n",
    "\n",
    "    train_loss /= len(train_loader)\n",
    "    accuracy = correct / total\n",
    "\n",
    "    return train_loss, accuracy\n",
    "\n",
    "@torch.inference_mode()\n",
    "def evaluate(model, loader) -> tuple[float, float]:\n",
    "    model.eval()\n",
    "\n",
    "    total_loss = 0\n",
    "    total = 0\n",
    "    correct = 0\n",
    "\n",
    "    for x, y in tqdm(loader, desc='Evaluation'):\n",
    "        x, y = x.to(device), y.to(device)\n",
    "\n",
    "        output = model(x)\n",
    "\n",
    "        loss = loss_fn(output, y)\n",
    "\n",
    "        total_loss += loss.item()\n",
    "\n",
    "        _, y_pred = torch.max(output, 1)\n",
    "        total += y.size(0)\n",
    "        correct += (y_pred == y).sum().item()\n",
    "\n",
    "    total_loss /= len(loader)\n",
    "    accuracy = correct / total\n",
    "\n",
    "    return total_loss, accuracy\n",
    "\n",
    "\n",
    "\n",
    "\n",
    "\n",
    "def plot_stats(\n",
    "        train_loss: list[float],\n",
    "        valid_loss: list[float],\n",
    "        train_accuracy: list[float],\n",
    "        valid_accuracy: list[float],\n",
    "        title: str\n",
    "):\n",
    "    plt.figure(figsize=(16, 8))\n",
    "\n",
    "    plt.title(title + ' loss')\n",
    "\n",
    "    plt.plot(train_loss, label='Train loss')\n",
    "    plt.plot(valid_loss, label='Valid loss')\n",
    "    plt.legend()\n",
    "    plt.grid()\n",
    "\n",
    "    plt.show()\n",
    "\n",
    "    plt.figure(figsize=(16, 8))\n",
    "\n",
    "    plt.title(title + ' accuracy')\n",
    "\n",
    "    plt.plot(train_accuracy, label='Train accuracy')\n",
    "    plt.plot(valid_accuracy, label='Valid accuracy')\n",
    "    plt.legend()\n",
    "    plt.grid()\n",
    "\n",
    "    plt.show()\n",
    "\n",
    "def whole_train_valid_cycle(model, num_epochs, title):\n",
    "    train_loss_history, valid_loss_history = [], []\n",
    "    train_accuracy_history, valid_accuracy_history = [], []\n",
    "\n",
    "    for epoch in range(num_epochs):\n",
    "        train_loss, train_accuracy = train(model)\n",
    "        valid_loss, valid_accuracy = evaluate(model, valid_loader)\n",
    "\n",
    "        train_loss_history.append(train_loss)\n",
    "        valid_loss_history.append(valid_loss)\n",
    "\n",
    "        train_accuracy_history.append(train_accuracy)\n",
    "        valid_accuracy_history.append(valid_accuracy)\n",
    "\n",
    "        clear_output()\n",
    "\n",
    "        plot_stats(\n",
    "            train_loss_history, valid_loss_history,\n",
    "            train_accuracy_history, valid_accuracy_history,\n",
    "            title\n",
    "        )\n"
   ]
  },
  {
   "cell_type": "code",
   "execution_count": 13,
   "id": "ee79dbc9",
   "metadata": {
    "cellId": "l7g6ao5ba1un49eppskxl"
   },
   "outputs": [],
   "source": [
    "class FourthModel(nn.Module):\n",
    "    def __init__(self):\n",
    "        super().__init__()\n",
    "\n",
    "        self.net = nn.Sequential(\n",
    "            nn.Conv2d(in_channels=3, out_channels=32, kernel_size=3, padding=1),  # 64 x 64 x 32\n",
    "            nn.BatchNorm2d(32),\n",
    "            nn.ReLU(),\n",
    "\n",
    "            nn.Conv2d(in_channels=32, out_channels=32, kernel_size=3, padding=1),  # 64 x 64 x 32\n",
    "            nn.BatchNorm2d(32),\n",
    "            nn.ReLU(),\n",
    "\n",
    "            nn.MaxPool2d(2),  # 32 x 32 x 32\n",
    "            nn.Dropout2d(p=0.25),\n",
    "\n",
    "            nn.Conv2d(in_channels=32, out_channels=64, kernel_size=3, padding=1),  # 32 x 32 x 64\n",
    "            nn.BatchNorm2d(64),\n",
    "            nn.ReLU(),\n",
    "\n",
    "            nn.Conv2d(in_channels=64, out_channels=64, kernel_size=3, padding=1),  # 32 x 32 x 64\n",
    "            nn.BatchNorm2d(64),\n",
    "            nn.ReLU(),\n",
    "\n",
    "            nn.MaxPool2d(2),  # 16 x 16 x 64\n",
    "            nn.Dropout2d(p=0.25),\n",
    "\n",
    "            nn.Conv2d(in_channels=64, out_channels=128, kernel_size=3, padding=1),  # 16 x 16 x 128\n",
    "            nn.BatchNorm2d(128),\n",
    "            nn.ReLU(),\n",
    "\n",
    "            nn.Conv2d(in_channels=128, out_channels=128, kernel_size=3, padding=1),  # 16 x 16 x 128\n",
    "            nn.BatchNorm2d(128),\n",
    "            nn.ReLU(),\n",
    "\n",
    "            nn.MaxPool2d(2),  # 8 x 8 x 128\n",
    "            nn.Dropout2d(p=0.25),\n",
    "\n",
    "            nn.Conv2d(in_channels=128, out_channels=256, kernel_size=3, padding=1),  # 8 x 8 x 256\n",
    "            nn.BatchNorm2d(256),\n",
    "            nn.ReLU(),\n",
    "\n",
    "            nn.Conv2d(in_channels=256, out_channels=256, kernel_size=3, padding=1),  # 8 x 8 x 256\n",
    "            nn.BatchNorm2d(256),\n",
    "            nn.ReLU(),\n",
    "\n",
    "            nn.MaxPool2d(2),  # 4 x 4 x 256\n",
    "            nn.Dropout2d(p=0.25),\n",
    "\n",
    "            nn.Flatten(),\n",
    "\n",
    "            nn.Linear(4 * 4 * 256, 1024),\n",
    "            nn.ReLU(),\n",
    "            nn.Linear(1024, 512),\n",
    "            nn.ReLU(),\n",
    "            nn.Dropout(p=0.5),\n",
    "            nn.Linear(512, 10)\n",
    "        )\n",
    "\n",
    "    def forward(self, x):\n",
    "        return self.net(x)\n"
   ]
  },
  {
   "cell_type": "code",
   "execution_count": 6,
   "id": "09fc426e",
   "metadata": {
    "cellId": "qur3csd6uwr25h4z3ktt59"
   },
   "outputs": [],
   "source": [
    "def whole_train_valid_cycle_with_scheduler(model, num_epochs, title):\n",
    "    train_loss_history, valid_loss_history = [], []\n",
    "    train_accuracy_history, valid_accuracy_history = [], []\n",
    "\n",
    "    for epoch in range(num_epochs):\n",
    "        train_loss, train_accuracy = train(model)\n",
    "        valid_loss, valid_accuracy = evaluate(model, valid_loader)\n",
    "\n",
    "        train_loss_history.append(train_loss)\n",
    "        valid_loss_history.append(valid_loss)\n",
    "\n",
    "        train_accuracy_history.append(train_accuracy)\n",
    "        valid_accuracy_history.append(valid_accuracy)\n",
    "\n",
    "        clear_output()\n",
    "\n",
    "        plot_stats(\n",
    "            train_loss_history, valid_loss_history,\n",
    "            train_accuracy_history, valid_accuracy_history,\n",
    "            title\n",
    "        )\n",
    "\n",
    "        scheduler.step()"
   ]
  },
  {
   "cell_type": "code",
   "execution_count": 10,
   "id": "06f80084",
   "metadata": {
    "cellId": "0ub5ke7uekijs0h7l2ocyz"
   },
   "outputs": [],
   "source": [
    "def predict(model: nn.Module, loader: DataLoader, device: torch.device):\n",
    "    predictions = []\n",
    "    model.eval()\n",
    "    with torch.no_grad():\n",
    "        for x, y in loader:\n",
    "            x, y = x.to(device), y.to(device)\n",
    "            output = model(x)\n",
    "            y_pred = torch.argmax(output, dim=1)\n",
    "            predictions.append(y_pred)\n",
    "    result = torch.cat(predictions)\n",
    "    return result"
   ]
  },
  {
   "cell_type": "code",
   "execution_count": 29,
   "id": "253032b1",
   "metadata": {
    "cellId": "zk061ek8a0jch4bwohf4fg"
   },
   "outputs": [],
   "source": [
    "@torch.inference_mode()\n",
    "def predict_tta(model: nn.Module, loader: DataLoader, device: torch.device, iterations: int = 2):\n",
    "    model.eval()\n",
    "    iter = []\n",
    "    with torch.no_grad():\n",
    "        for i in range(iterations):\n",
    "            predicts = []\n",
    "            for x, y in loader:\n",
    "                out = model(x)\n",
    "                predicts.append(out)\n",
    "            iter.append(torch.concat(predicts))\n",
    "    return torch.concat(iter).reshape(iterations, len(loader.dataset), out.size(1)).mean(dim=0).argmax(dim=1)"
   ]
  },
  {
   "cell_type": "code",
   "execution_count": 8,
   "id": "d901969e",
   "metadata": {
    "cellId": "dgzv9jdusgmm6wtckv4azn"
   },
   "outputs": [],
   "source": [
    "def create_simple_conv_cifar():\n",
    "    model = nn.Sequential(\n",
    "                nn.Conv2d(in_channels=3, out_channels=16, kernel_size=3, padding=1),  # 32 x 32 x 16\n",
    "                nn.BatchNorm2d(16),\n",
    "                nn.ReLU(),\n",
    "\n",
    "                nn.MaxPool2d(2),  # 16 x 16 x 16\n",
    "                nn.Dropout2d(p=0.2),\n",
    "\n",
    "                nn.Conv2d(in_channels=16, out_channels=32, kernel_size=3, padding=1),  # 16 x 16 x 32\n",
    "                nn.BatchNorm2d(32),\n",
    "                nn.ReLU(),\n",
    "\n",
    "                nn.MaxPool2d(2),  # 8 x 8 x 32\n",
    "                nn.Dropout2d(p=0.2),\n",
    "\n",
    "                nn.Flatten(),\n",
    "                nn.Linear(8 * 8 * 32, 1024),\n",
    "                nn.BatchNorm1d(1024),\n",
    "                nn.Dropout(p=0.2),\n",
    "                nn.ReLU(),\n",
    "                nn.Linear(1024, 128),\n",
    "                nn.BatchNorm1d(128),\n",
    "                nn.Dropout(p=0.2),\n",
    "                nn.ReLU(),\n",
    "                nn.Linear(128, 10)\n",
    "            )\n",
    "    return model"
   ]
  },
  {
   "cell_type": "code",
   "execution_count": 23,
   "id": "5821b2b6",
   "metadata": {
    "cellId": "vg7ciehskzo1td3g0uzkvz"
   },
   "outputs": [],
   "source": [
    "def create_advanced_conv_cifar():\n",
    "    return nn.Sequential(\n",
    "            nn.Conv2d(in_channels=3, out_channels=64, kernel_size=3, padding=1),  # 64 x 64 x 32\n",
    "            nn.BatchNorm2d(64),\n",
    "            nn.ReLU(),\n",
    "\n",
    "            nn.Conv2d(in_channels=64, out_channels=64, kernel_size=3, padding=1),  # 64 x 64 x 32\n",
    "            nn.BatchNorm2d(64),\n",
    "            nn.ReLU(),\n",
    "\n",
    "            nn.MaxPool2d(2),  # 32 x 32 x 32\n",
    "            nn.Dropout2d(p=0.25),\n",
    "\n",
    "            nn.Conv2d(in_channels=64, out_channels=128, kernel_size=3, padding=1),  # 32 x 32 x 64\n",
    "            nn.BatchNorm2d(128),\n",
    "            nn.ReLU(),\n",
    "\n",
    "            nn.Conv2d(in_channels=128, out_channels=128, kernel_size=3, padding=1),  # 32 x 32 x 64\n",
    "            nn.BatchNorm2d(128),\n",
    "            nn.ReLU(),\n",
    "\n",
    "            nn.MaxPool2d(2),  # 16 x 16 x 64\n",
    "            nn.Dropout2d(p=0.25),\n",
    "\n",
    "            nn.Conv2d(in_channels=128, out_channels=256, kernel_size=3, padding=1),  # 16 x 16 x 128\n",
    "            nn.BatchNorm2d(256),\n",
    "            nn.ReLU(),\n",
    "\n",
    "            nn.Conv2d(in_channels=256, out_channels=256, kernel_size=3, padding=1),  # 16 x 16 x 128\n",
    "            nn.BatchNorm2d(256),\n",
    "            nn.ReLU(),\n",
    "\n",
    "\n",
    "            nn.MaxPool2d(2),  # 4 x 4 x 256\n",
    "            nn.Dropout2d(p=0.25),\n",
    "\n",
    "            nn.Flatten(),\n",
    "\n",
    "            nn.Linear(4 * 4 * 256, 10),\n",
    "        )"
   ]
  },
  {
   "cell_type": "code",
   "execution_count": 14,
   "id": "4e8f9f2a",
   "metadata": {
    "cellId": "s89qz9arfujtm8ybxa6qg"
   },
   "outputs": [],
   "source": [
    "def get_augmentations(train: bool = True) -> T.Compose:\n",
    "    if train == True:\n",
    "        transforms = T.Compose([\n",
    "            T.Resize((64,64)),\n",
    "            T.RandomCrop(size=64, padding=8, padding_mode='reflect'),\n",
    "            T.RandomHorizontalFlip(p=0.5),\n",
    "            T.RandomAdjustSharpness(sharpness_factor=2, p=0.4),\n",
    "            T.ToTensor(),\n",
    "            T.Normalize(mean=(0.4914, 0.4822, 0.4465), std=(0.247, 0.243, 0.261))        \n",
    "        ])\n",
    "    else:\n",
    "        transforms = T.Compose([\n",
    "            T.Resize((64,64)),\n",
    "            T.ToTensor(),\n",
    "            T.Normalize(mean=(0.4914, 0.4822, 0.4465), std=(0.247, 0.243, 0.261))        \n",
    "        ])\n",
    "    return transforms\n"
   ]
  },
  {
   "cell_type": "code",
   "execution_count": 32,
   "id": "1c8c30d0",
   "metadata": {
    "cellId": "18ae37p85l91engwsm7ezl"
   },
   "outputs": [
    {
     "data": {
      "image/png": "[encoded data removed]",
      "text/plain": [
       "<Figure size 1152x576 with 1 Axes>"
      ]
     },
     "metadata": {
      "needs_background": "light"
     },
     "output_type": "display_data"
    },
    {
     "data": {
      "image/png": "[encoded data removed]",
      "text/plain": [
       "<Figure size 1152x576 with 1 Axes>"
      ]
     },
     "metadata": {
      "needs_background": "light"
     },
     "output_type": "display_data"
    }
   ],
   "source": [
    "#!g1.1\n",
    "device = torch.device('cuda:0' if torch.cuda.is_available() else 'cpu')\n",
    "loss_fn = nn.CrossEntropyLoss()\n",
    "\n",
    "model = create_advanced_conv_cifar().to(device)\n",
    "optimizer = Adam(model.parameters(), lr=1e-3)\n",
    "scheduler = StepLR(optimizer, step_size=25)\n",
    "\n",
    "#whole_train_valid_cycle(model, 30, 'Fourth super advanced model + custom augmentations')\n",
    "result = whole_train_valid_cycle_with_scheduler(model, 60, 'Fourth super advanced model + best learned augmentations + lr schedule')\n",
    "\n",
    "prediction = predict(model, valid_loader, device)\n",
    "torch.save(prediction, 'model.pth')"
   ]
  },
  {
   "cell_type": "code",
   "execution_count": null,
   "id": "c0e09779",
   "metadata": {
    "cellId": "3bh5dezakrll7lqg41joa"
   },
   "outputs": [],
   "source": [
    "\n"
   ]
  }
 ],
 "metadata": {
  "language_info": {
   "codemirror_mode": {
    "name": "ipython",
    "version": 3
   },
   "file_extension": ".py",
   "mimetype": "text/x-python",
   "name": "python",
   "nbconvert_exporter": "python",
   "pygments_lexer": "ipython3",
   "version": "3.7.7"
  },
  "notebookId": "5a3621c6-c4d0-48b3-a437-d5411d9703b9",
  "notebookPath": "Untitled1.ipynb"
 },
 "nbformat": 4,
 "nbformat_minor": 5
}
